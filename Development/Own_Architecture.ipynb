{
 "cells": [
  {
   "cell_type": "markdown",
   "metadata": {
    "id": "kUiAiuvsn3yN"
   },
   "source": [
    "# 1. Loading the Data from Google Drive\n",
    "---\n",
    "### 1.1 Mount Dataset\n",
    "\n",
    "Mount the drive and extract the dataset from images separated into corresponding folders\n",
    "\n",
    "The mounting of the drive is only necessary if the notebook is run on Google Colab instead of locally\n",
    "\n",
    "The folder is divided into:\n",
    "1. Test Folder\n",
    "  * With Mask Folder\n",
    "  * Without Mask Folder\n",
    "2. Train Folder\n",
    "  * With Mask Folder\n",
    "  * Without Mask Folder\n",
    "2. Validation Folder\n",
    "  * With Mask Folder\n",
    "  * Without Mask Folder\n",
    "\n",
    "---\n",
    "### 1.2 Import Modules\n",
    "\n",
    "All required modules are also imported after \n",
    "\n",
    "These modules are:\n",
    "  * Numpy\n",
    "  * Matplotlib.pyplot\n",
    "  * Seaborn\n",
    "  * Tensorflow\n",
    "  * Keras \n",
    "  * Scikit-Learn "
   ]
  },
  {
   "cell_type": "code",
   "execution_count": null,
   "metadata": {
    "colab": {
     "base_uri": "https://localhost:8080/"
    },
    "id": "2JM0qOdYou9i",
    "outputId": "62280fc5-8177-4eae-f65d-5e8739211239",
    "scrolled": true
   },
   "outputs": [],
   "source": [
    "# 1.1 \n",
    "# Mounting to drive\n",
    "# This step is only necessary if the notebook is run on Google Colab instead of locally\n",
    "\n",
    "from google.colab import drive \n",
    "\n",
    "drive.mount(\"/content/gdrive\") "
   ]
  },
  {
   "cell_type": "code",
   "execution_count": null,
   "metadata": {
    "id": "H0NsaJRfo81U"
   },
   "outputs": [],
   "source": [
    "# 1.2\n",
    "# Import needed modules\n",
    "\n",
    "# Basic packages needed for data analysis, visualization and manipulation\n",
    "import numpy as np\n",
    "import pandas as pd \n",
    "import matplotlib.pyplot as plt\n",
    "import seaborn as sns\n",
    "\n",
    "# Mainly Tensorflow packages for data preprocessing\n",
    "from PIL import Image \n",
    "import tensorflow as tf\n",
    "from tensorflow.keras.preprocessing.image import img_to_array, load_img, ImageDataGenerator\n",
    "from tensorflow.keras.utils import to_categorical \n",
    "\n",
    "# Mainly Tensorflow.keras layers needed to build the Convolutional Neural Network (CNN)\n",
    "from tensorflow.keras.layers import Dense, Conv2D, MaxPool2D, Dropout, Flatten, BatchNormalization\n",
    "from tensorflow.keras import Sequential, regularizers\n",
    "\n",
    "# Mainly functions to load from saved checkpoints\n",
    "from tensorflow.keras.models import load_model\n",
    "\n",
    "# Mainly Tensorflow modules that help to optimize and fine-tune the CNN models better\n",
    "from tensorflow.keras.callbacks import EarlyStopping, ModelCheckpoint, ReduceLROnPlateau\n",
    "from tensorflow.keras.optimizers import Adam \n",
    "from sklearn.model_selection import KFold, train_test_split \n",
    "from math import ceil\n",
    "\n",
    "# Mainly metrics to assess the CNN's performance\n",
    "from sklearn.metrics import accuracy_score, confusion_matrix, recall_score, precision_score, f1_score, classification_report"
   ]
  },
  {
   "cell_type": "markdown",
   "metadata": {
    "id": "r0jPV8cbo3GW"
   },
   "source": [
    "# 2. Preprocessing the data and preparing the CNN model\n",
    "\n",
    "___\n",
    "\n",
    "### 2.1 Prepare ImageDataGenerator\n",
    "Create an ImageDataGenerator instance for data augmentation\n",
    "\n",
    "Considering the rotation, width and height shift, brightness, shear, zoom and horizontal flipping to mimic the possible real-world data the model would face\n",
    "\n",
    "Diversifies the dataset to let the model be trained on a larger and more diverse set of images\n",
    "\n",
    "___\n",
    "\n",
    "### 2.2 Construct CNN Model\n",
    "The model's architecture is mainly a result of extensive experimentation, with AlexNet/ZFNet as inspirations of the starting point architecture\n",
    "\n",
    "The activation function for the hidden layers would be ReLU whereas Sigmoid would be applied to the output layer of a single neuron\n",
    "\n",
    "The dense layers would have dropout regularization and L2 weight regularization applied \n",
    "\n",
    "The optimizer used is Adam, which gives an adaptive learning rate, the loss measured is \"binary cross-entropy\", and early stopping and reduce LR on plateau would be implemented (loss is monitored for early stopping) \n",
    "\n",
    "The model is as follows: (_Refer to model summary for more info_)\n",
    "  1. Fisrt Convolutional Block\n",
    "    * Input convolutional layer\n",
    "    * Batch normalization\n",
    "    * Max pooling layer\n",
    "  2. Second Convolutional Block\n",
    "    * Convolutional layer\n",
    "    * Convolutional layer\n",
    "    * Batch normalization \n",
    "    * Max pooling layer\n",
    "    * Dropout regularization\n",
    "  3. Third Convolutional Block\n",
    "    * Convolutional layer\n",
    "    * Convolutional layer\n",
    "    * Convolutional layer \n",
    "    * Max pooling layer\n",
    "  4. Flatten for dense network\n",
    "  5. First Dense Block\n",
    "    * Dense layer\n",
    "    * Dropout regularization\n",
    "  6. Second Dense Block\n",
    "    * Dense layer \n",
    "    * Dropout regularization\n",
    "  7. Output layer \n",
    "\n",
    "___ \n",
    "\n",
    "### 2.3 Compile Model & Prepare Callbacks\n",
    "\n",
    "Compile the model with the Adam optimizer, Binary Cross-Entropy loss and Accuracy as the measure of success\n",
    "\n",
    "The callback objects for early stopping, saving model checkpoints and reducing LR on plateau are prepared\n",
    "\n",
    "___\n",
    "\n",
    "### 2.4 Loading Previous Models\n",
    "\n",
    "Instead of fitting a model to the dataset from scratch, we can also load a model that was saved from a previous training and resume training from there\n",
    "\n",
    "This can be done either by loading from checkpoints (CKPT format) or a saved model (HDF5 format)\n",
    "\n",
    "If the whole model is loaded, there is no need to construct the whole model from scratch"
   ]
  },
  {
   "cell_type": "code",
   "execution_count": null,
   "metadata": {
    "id": "juXNCJ0kpoWb"
   },
   "outputs": [],
   "source": [
    "# 2.1 \n",
    "# ImageDataGenerator is an iterator for data augmentation\n",
    "\n",
    "# As the images of the dataset are quite closely zoomed onto faces already, \n",
    "# the shift range is limited to only 0.1 to prevent the faces from going out of frame\n",
    "\n",
    "# The brightness is not altered too drastically as the model should ultimately be used in a well lit setting\n",
    "\n",
    "# Vertical flipping is not applied as we do not expect to see upside down faces in our use cases\n",
    "\n",
    "# Rescaling pixels to a value between 0.0 and 1.0 as a form of normalization \n",
    "# to increase training speeds, stability and comprehensiveness\n",
    "\n",
    "target_img_size = (224, 224)\n",
    "\n",
    "datagen_train = ImageDataGenerator(\n",
    "    rotation_range=40, # Randomly rotates the image by up to 40 degrees\n",
    "    width_shift_range=0.1, # Displaces the image horizontally by up to 10% of the original image size\n",
    "    height_shift_range=0.1, # Displaces the image vertically by up to 10% of the original image size\n",
    "    brightness_range=[0.8, 1.2], # Alters brightness by a positive 20% or negative 20% \n",
    "    shear_range=0.3, # Shears by up to 30% in the counter-clockwise direction\n",
    "    zoom_range=0.2, # Randomly zooms in and out by up to 20%\n",
    "    horizontal_flip=True, # Randomly flips the image horizontally\n",
    "    rescale=1./255 # Rescales pixels to a float between 0 and 1\n",
    "    ) \n",
    "\n",
    "datagen_val = ImageDataGenerator(\n",
    "    rotation_range=40, # Same requirements repeated for validation dataset\n",
    "    width_shift_range=0.1, \n",
    "    height_shift_range=0.1, \n",
    "    brightness_range=[0.8, 1.2], \n",
    "    shear_range=0.3, \n",
    "    zoom_range=0.2, \n",
    "    horizontal_flip=True, \n",
    "    rescale=1./255\n",
    "    )\n",
    "\n",
    "datagen_test = ImageDataGenerator(\n",
    "    rescale=1./255 # No augmentation involved for testing dataset, just rescaling as the CNN is trained on normalized pixels\n",
    ")"
   ]
  },
  {
   "cell_type": "code",
   "execution_count": null,
   "metadata": {
    "id": "YBXowuRXpuO9"
   },
   "outputs": [],
   "source": [
    "# 2.2\n",
    "# Best performing model discovered via experimentation so far, considering all limitations and conditions given\n",
    "# BPFModel\n",
    "\n",
    "# Initialize model\n",
    "model = Sequential()\n",
    "# First convol block\n",
    "model.add(Conv2D(32, (5, 5), strides=1, padding='same', activation='relu', kernel_regularizer=regularizers.L2(0.0001), input_shape=(224,224,3))) # input layer\n",
    "model.add(BatchNormalization())\n",
    "model.add(MaxPool2D(pool_size=(3,3), strides=2))\n",
    "# Second convol block\n",
    "model.add(Conv2D(64, (5, 5), strides=1, padding='valid', activation='relu', kernel_regularizer=regularizers.L2(0.0001)))\n",
    "model.add(Conv2D(64, (5, 5), strides=1, padding='same', activation='relu', kernel_regularizer=regularizers.L2(0.0001)))\n",
    "model.add(BatchNormalization())\n",
    "model.add(MaxPool2D(pool_size=(3,3), strides=2))\n",
    "model.add(Dropout(0.4))\n",
    "# Third convol block\n",
    "model.add(Conv2D(128, (3, 3), strides=1, padding='same', activation='relu', kernel_regularizer=regularizers.L2(0.0001)))\n",
    "model.add(Conv2D(256, (3, 3), strides=1, padding='same', activation='relu', kernel_regularizer=regularizers.L2(0.0001)))\n",
    "model.add(Conv2D(64, (3, 3), strides=1, padding='same', activation='relu', kernel_regularizer=regularizers.L2(0.0001)))\n",
    "model.add(MaxPool2D(pool_size=(3,3), strides=2))\n",
    "# Flatten layer\n",
    "model.add(Flatten())\n",
    "# First dense block\n",
    "model.add(Dense(2000, kernel_regularizer=regularizers.L2(0.0001), activation='relu')) \n",
    "model.add(Dropout(0.4)) \n",
    "# Second dense block\n",
    "model.add(Dense(2000, kernel_regularizer=regularizers.L2(0.0001), activation='relu'))\n",
    "model.add(Dropout(0.4))\n",
    "# Output block\n",
    "model.add(Dense(1, activation='sigmoid'))"
   ]
  },
  {
   "cell_type": "code",
   "execution_count": null,
   "metadata": {
    "colab": {
     "base_uri": "https://localhost:8080/"
    },
    "id": "kv3fKypxp1Li",
    "outputId": "b203181d-1e05-4eaa-fad5-ff8c03acddb6"
   },
   "outputs": [
    {
     "name": "stdout",
     "output_type": "stream",
     "text": [
      "Model: \"sequential_1\"\n",
      "_________________________________________________________________\n",
      "Layer (type)                 Output Shape              Param #   \n",
      "=================================================================\n",
      "conv2d_6 (Conv2D)            (None, 224, 224, 32)      2432      \n",
      "_________________________________________________________________\n",
      "batch_normalization_2 (Batch (None, 224, 224, 32)      128       \n",
      "_________________________________________________________________\n",
      "max_pooling2d_3 (MaxPooling2 (None, 111, 111, 32)      0         \n",
      "_________________________________________________________________\n",
      "conv2d_7 (Conv2D)            (None, 107, 107, 64)      51264     \n",
      "_________________________________________________________________\n",
      "conv2d_8 (Conv2D)            (None, 107, 107, 64)      102464    \n",
      "_________________________________________________________________\n",
      "batch_normalization_3 (Batch (None, 107, 107, 64)      256       \n",
      "_________________________________________________________________\n",
      "max_pooling2d_4 (MaxPooling2 (None, 53, 53, 64)        0         \n",
      "_________________________________________________________________\n",
      "dropout_3 (Dropout)          (None, 53, 53, 64)        0         \n",
      "_________________________________________________________________\n",
      "conv2d_9 (Conv2D)            (None, 53, 53, 128)       73856     \n",
      "_________________________________________________________________\n",
      "conv2d_10 (Conv2D)           (None, 53, 53, 256)       295168    \n",
      "_________________________________________________________________\n",
      "conv2d_11 (Conv2D)           (None, 53, 53, 64)        147520    \n",
      "_________________________________________________________________\n",
      "max_pooling2d_5 (MaxPooling2 (None, 26, 26, 64)        0         \n",
      "_________________________________________________________________\n",
      "flatten_1 (Flatten)          (None, 43264)             0         \n",
      "_________________________________________________________________\n",
      "dense_3 (Dense)              (None, 2000)              86530000  \n",
      "_________________________________________________________________\n",
      "dropout_4 (Dropout)          (None, 2000)              0         \n",
      "_________________________________________________________________\n",
      "dense_4 (Dense)              (None, 2000)              4002000   \n",
      "_________________________________________________________________\n",
      "dropout_5 (Dropout)          (None, 2000)              0         \n",
      "_________________________________________________________________\n",
      "dense_5 (Dense)              (None, 1)                 2001      \n",
      "=================================================================\n",
      "Total params: 91,207,089\n",
      "Trainable params: 91,206,897\n",
      "Non-trainable params: 192\n",
      "_________________________________________________________________\n"
     ]
    }
   ],
   "source": [
    "# Double-checking the model \n",
    "model.summary()"
   ]
  },
  {
   "cell_type": "code",
   "execution_count": null,
   "metadata": {
    "id": "h2FVzcvzp30I"
   },
   "outputs": [],
   "source": [
    "# 2.3\n",
    "\n",
    "# Compiling the model\n",
    "opt = Adam(learning_rate=1e-4) # Using the adam optimizer which allows for adapting LRs, initialized as 0.0001\n",
    "\n",
    "model.compile(loss='binary_crossentropy', optimizer=opt, metrics=['accuracy']) \n",
    "# Binary cross-entropy used as there are 2 categories predicted by one output neuron\n",
    "# Accuracy used as measure of success\n",
    "\n",
    "# Prepare for early stopping\n",
    "early_stopping = EarlyStopping(monitor='val_loss', patience=1)\n",
    "\n",
    "# Prepare for model checkpoint saving\n",
    "checkpoint_path = \"/content/gdrive/<path to checkpoint storage>/<filename>.ckpt\" \n",
    "\n",
    "model_checkpoint = ModelCheckpoint(filepath=checkpoint_path, monitor='val_loss', verbose=1, save_best_only=True, save_weights_only=True)\n",
    "\n",
    "# Prepare for reduced LR when approaching a plateau\n",
    "reduce_lr = ReduceLROnPlateau(monitor='val_loss', factor=0.2, patience=1, min_lr=0.00001)"
   ]
  },
  {
   "cell_type": "code",
   "execution_count": null,
   "metadata": {},
   "outputs": [],
   "source": [
    "# 2.4\n",
    "# Load from a previously saved state of a trained model\n",
    "\n",
    "# Load previously saved weights from CKPT file\n",
    "model.load_weights(\"/content/gdrive/<path to CKPT file>/<filename>.ckpt\")\n",
    "\n",
    "# Load previously saved model from HDF5 file\n",
    "# model = load_model('/content/gdrive/<path to HDF5 file>/<filename>.h5')\n",
    "# If the whole model is loaded, there is no need to construct the whole model from scratch"
   ]
  },
  {
   "cell_type": "markdown",
   "metadata": {
    "id": "IaEX6xXgcsD4"
   },
   "source": [
    "# 3. Fitting the CNN Model\n",
    "\n",
    "___\n",
    "\n",
    "### 3.1 Prepare Dataset\n",
    "\n",
    "Prepare the training, validation and testing dataset using the flow_from_directory() method of the ImageDataGenerator object\n",
    "\n",
    "The method reads the images and yields them in batches from the corresponding folders using the filepath, batch size and target image size provided\n",
    "\n",
    "Shuffle is meant to introduce more randomness and the seed was set to 1 as a group decision in order to standardize within the group\n",
    "\n",
    "The images yielded may be altered according to the earlier set parameters at random\n",
    "\n",
    "Initially, the dataset was loaded using load_img() and img_to_array() and the augmentor iterates from memory using the flow() method. \n",
    "\n",
    "In order to standardize the dataset used however, flow_from_directory() method is now used instead to iterate from storage instead. \n",
    "\n",
    "___\n",
    "\n",
    "### 3.2 Fitting the CNN Model\n",
    "\n",
    "The model is fitted to the dataset, using the training and validation ImageDataGenerator and the 3 callback objects prepared\n",
    "\n",
    "The results are appended to a list called model_metadata\n",
    "\n",
    "___\n",
    "\n",
    "### 3.3 Load Previous Model\n",
    "\n",
    "Instead of fitting a new model to the dataset, we can also load a model that was saved from a previous training\n",
    "\n",
    "This can be done either by loading from checkpoints (CKPT format) or a saved model (HDF5 format)\n",
    "\n",
    "If the whole model is loaded, there is no need to construct the whole model from scratch\n",
    "\n",
    "___\n",
    "\n",
    "### 3.4 Evaluation\n",
    "\n",
    "The model's performance after fitting is then evaluated using the testing ImageDataGenerator\n",
    "\n",
    "A confusion matrix and classification report is also plotted to observe the model's other metrics of performance\n",
    "\n",
    "___\n",
    "\n",
    "### 3.5 Viewing the Predictions\n",
    "\n",
    "Using matplotlib.pyplot, we can see the image of predicted images alongside the prediction and true label\n",
    "\n",
    "___\n",
    "\n",
    "### 3.6 Saving Model\n",
    "\n",
    "The model can be saved in its entirety into an HDF5 file"
   ]
  },
  {
   "cell_type": "code",
   "execution_count": null,
   "metadata": {
    "colab": {
     "base_uri": "https://localhost:8080/"
    },
    "id": "vYWSq08OheNO",
    "outputId": "fe09fd05-4c34-429d-f831-da6bbd06b8d6",
    "scrolled": true
   },
   "outputs": [
    {
     "name": "stdout",
     "output_type": "stream",
     "text": [
      "Found 3561 images belonging to 2 classes.\n",
      "Found 1017 images belonging to 2 classes.\n",
      "Found 509 images belonging to 2 classes.\n"
     ]
    }
   ],
   "source": [
    "# 3.1\n",
    "\n",
    "# Standard batch size of 32 for time trade-off\n",
    "BATCH_SIZE = 32\n",
    "\n",
    "# Paths to corresponding dataset folders\n",
    "train_path = \"/content/gdrive/<path to dataset storage>/data/train\" # Training dataset\n",
    "val_path = \"/content/gdrive/<path to dataset storage>/data/val\" # Validation datset\n",
    "test_path = \"/content/gdrive/<path to dataset storage>/data/test\" # Testing dataset\n",
    "\n",
    "# ImageDataGenerator can directly read the dataset from disk and create batches of images that are altered at random\n",
    "\n",
    "# Target image size is (224, 224), batch size is 32, class mode refers to the 2 classes predicted by the CNN model\n",
    "# Shuffle set to True indicates that the generator would select images to alter and yield randomly from a dataset that is random shuffled\n",
    "# Testing ImageDataGenerator has shuffle set to False so that the class labels used for the confusion matrix would be in the correct order\n",
    "\n",
    "train_gen = datagen_train.flow_from_directory(train_path, target_size=target_img_size, batch_size=BATCH_SIZE, class_mode=\"binary\", shuffle=True, seed=1)\n",
    "\n",
    "val_gen = datagen_val.flow_from_directory(val_path, target_size=target_img_size, batch_size=BATCH_SIZE, class_mode=\"binary\", shuffle=True, seed=1)\n",
    "\n",
    "test_gen = datagen_test.flow_from_directory(test_path, target_size=target_img_size, batch_size=BATCH_SIZE, class_mode=\"binary\", shuffle=False)"
   ]
  },
  {
   "cell_type": "code",
   "execution_count": null,
   "metadata": {
    "colab": {
     "base_uri": "https://localhost:8080/"
    },
    "id": "ZaetFLi_qJlV",
    "outputId": "60a1033e-c0e8-4847-8f89-c1ed4a7b9965"
   },
   "outputs": [],
   "source": [
    "# 3.2\n",
    "# Preparing the list to store details of the model's training performance\n",
    "model_metadata = []\n",
    "\n",
    "# Fitting the model\n",
    "model_metadata.append(\n",
    "    model.fit_generator(train_gen, \n",
    "              steps_per_epoch=ceil(3561/BATCH_SIZE),\n",
    "              epochs=15, \n",
    "              callbacks=[early_stopping, reduce_lr, model_checkpoint],\n",
    "              validation_data=val_gen,\n",
    "              validation_steps=ceil(1017/BATCH_SIZE),\n",
    "              verbose=1))"
   ]
  },
  {
   "cell_type": "code",
   "execution_count": null,
   "metadata": {},
   "outputs": [],
   "source": [
    "# 3.3\n",
    "# Load from a previously saved state of a trained model\n",
    "\n",
    "# Load previously saved weights from CKPT file\n",
    "model.load_weights(\"/content/gdrive/<path to CKPT file>/<filename>.ckpt\")\n",
    "\n",
    "# Load previously saved model from HDF5 file\n",
    "# model = load_model('/content/gdrive/<path to HDF5 file>/<filename>.h5')\n",
    "# If the whole model is loaded, there is no need to construct the whole model from scratch"
   ]
  },
  {
   "cell_type": "code",
   "execution_count": null,
   "metadata": {
    "colab": {
     "base_uri": "https://localhost:8080/"
    },
    "id": "C9v0P-k06E5J",
    "outputId": "39aee1d4-652f-48c3-ae02-b5a3ceee73b1"
   },
   "outputs": [],
   "source": [
    "# 3.4\n",
    "# Observing the results\n",
    "\n",
    "# Use evaluate() method to evaluate performance metrics of accuracy and loss\n",
    "model_metadata.append(\n",
    "    model.evaluate(test_gen, verbose=1, return_dict=True)\n",
    ") "
   ]
  },
  {
   "cell_type": "code",
   "execution_count": null,
   "metadata": {
    "colab": {
     "base_uri": "https://localhost:8080/"
    },
    "id": "ie-SlV8IeiLO",
    "outputId": "be1cf897-9204-4ed3-c21a-e485170e9f3b"
   },
   "outputs": [
    {
     "data": {
      "text/plain": [
       "{'accuracy': 0.9410609006881714, 'loss': 0.6789568066596985}"
      ]
     },
     "execution_count": 13,
     "metadata": {
      "tags": []
     },
     "output_type": "execute_result"
    }
   ],
   "source": [
    "# Observe the returned results of the evaluate() method\n",
    "model_metadata[-1]"
   ]
  },
  {
   "cell_type": "code",
   "execution_count": null,
   "metadata": {
    "colab": {
     "base_uri": "https://localhost:8080/",
     "height": 282
    },
    "id": "tCLQAbj19ZeC",
    "outputId": "1940ef1e-7e8b-473e-9ba3-93e4afc5aaa3"
   },
   "outputs": [
    {
     "data": {
      "text/plain": [
       "<matplotlib.axes._subplots.AxesSubplot at 0x7f85e5a01d68>"
      ]
     },
     "execution_count": 20,
     "metadata": {
      "tags": []
     },
     "output_type": "execute_result"
    },
    {
     "data": {
      "image/png": "[encoded data removed]",
      "text/plain": [
       "<Figure size 432x288 with 2 Axes>"
      ]
     },
     "metadata": {
      "needs_background": "light",
      "tags": []
     },
     "output_type": "display_data"
    }
   ],
   "source": [
    "# Plotting the confusion matrix \n",
    "\n",
    "# Getting the predictions\n",
    "y_pred = model.predict(test_gen, verbose=1)\n",
    "y_pred = (y_pred > 0.5).astype('int32')\n",
    "\n",
    "# Getting the class labels\n",
    "y_classes = list(test_gen.class_indices)\n",
    "\n",
    "# Plotting the confusion matrix\n",
    "cm = confusion_matrix(test_gen.classes, y_pred)\n",
    "sns.heatmap(cm, annot=True, xticklabels=y_classes, yticklabels=y_classes)"
   ]
  },
  {
   "cell_type": "code",
   "execution_count": null,
   "metadata": {
    "colab": {
     "base_uri": "https://localhost:8080/"
    },
    "id": "7hw91SGP6j7y",
    "outputId": "1fb891a7-4cff-4b8e-b008-883f80bb529e"
   },
   "outputs": [
    {
     "name": "stdout",
     "output_type": "stream",
     "text": [
      "0.9565217391304348\n",
      "0.9491525423728814\n",
      "0.9655172413793104\n",
      "0.9572649572649573\n"
     ]
    }
   ],
   "source": [
    "# Scores according to different metrics\n",
    "\n",
    "# Accuracy \n",
    "print(\"Accuracy: \", end=\"\")\n",
    "print(accuracy_score(test_gen.classes, y_pred))\n",
    "\n",
    "# Recall\n",
    "print(\"Recall: \", end=\"\")\n",
    "print(recall_score(test_gen.classes, y_pred))\n",
    "\n",
    "# Precision \n",
    "print(\"Precision: \", end=\"\")\n",
    "print(precision_score(test_gen.classes, y_pred))\n",
    "\n",
    "# F1\n",
    "print(\"F1 score: \", end=\"\")\n",
    "print(f1_score(test_gen.classes, y_pred))"
   ]
  },
  {
   "cell_type": "code",
   "execution_count": null,
   "metadata": {
    "id": "0xWtU0446jYc"
   },
   "outputs": [],
   "source": [
    "# Creating the classification report\n",
    "\n",
    "print(classification_report(test_gen.classes, y_pred, target_names=y_classes))"
   ]
  },
  {
   "cell_type": "code",
   "execution_count": null,
   "metadata": {},
   "outputs": [],
   "source": [
    "# 3.5 \n",
    "# Viewing the image and corresponding class and prediction by the model\n",
    "\n",
    "# Getting a batch of images \n",
    "batch = test_gen.__next__()\n",
    "\n",
    "# Getting predictions on that batch\n",
    "results = model.predict(batch, verbose=1)\n",
    "results = (results > 0.5).astype('int32') "
   ]
  },
  {
   "cell_type": "code",
   "execution_count": null,
   "metadata": {},
   "outputs": [],
   "source": [
    "# Picture to be reviewed\n",
    "image = 1\n",
    "\n",
    "# Get the true class\n",
    "print(f\"Correct Class: {batch[1][image]}\")\n",
    "\n",
    "# Get the predicted class\n",
    "print(f\"Predicted Class: {results[image]}\")\n",
    "\n",
    "# Get the image \n",
    "plt.imshow(batch[0][image])"
   ]
  },
  {
   "cell_type": "code",
   "execution_count": null,
   "metadata": {},
   "outputs": [],
   "source": [
    "# 3.6\n",
    "# Saving the model in HDF5 format\n",
    "\n",
    "model.save('/content/gdrive/<path to location to save file to>/<filename>.h5')"
   ]
  }
 ],
 "metadata": {
  "colab": {
   "collapsed_sections": [
    "L2T5c_7FogQJ"
   ],
   "name": "KW Own Architecture.ipynb",
   "provenance": []
  },
  "kernelspec": {
   "display_name": "Python 3",
   "language": "python",
   "name": "python3"
  },
  "language_info": {
   "codemirror_mode": {
    "name": "ipython",
    "version": 3
   },
   "file_extension": ".py",
   "mimetype": "text/x-python",
   "name": "python",
   "nbconvert_exporter": "python",
   "pygments_lexer": "ipython3",
   "version": "3.8.5"
  }
 },
 "nbformat": 4,
 "nbformat_minor": 1
}
